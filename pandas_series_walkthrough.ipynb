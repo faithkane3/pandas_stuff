{
 "cells": [
  {
   "cell_type": "markdown",
   "metadata": {
    "toc": true
   },
   "source": [
    "<h1>Table of Contents<span class=\"tocSkip\"></span></h1>\n",
    "<div class=\"toc\"><ul class=\"toc-item\"><li><span><a href=\"#1.-Use-pandas-to-create-a-Series-from-the-following-data:\" data-toc-modified-id=\"1.-Use-pandas-to-create-a-Series-from-the-following-data:-1\"><span class=\"toc-item-num\">1&nbsp;&nbsp;</span>1. Use pandas to create a Series from the following data:</a></span><ul class=\"toc-item\"><li><span><a href=\"#a.-Name-the-variable-that-holds-the-series-fruits.\" data-toc-modified-id=\"a.-Name-the-variable-that-holds-the-series-fruits.-1.1\"><span class=\"toc-item-num\">1.1&nbsp;&nbsp;</span>a. Name the variable that holds the series fruits.</a></span></li><li><span><a href=\"#b.-Run-.describe()-method-on-the-Series-to-see-what-describe-returns-for-a-series-of-strings.\" data-toc-modified-id=\"b.-Run-.describe()-method-on-the-Series-to-see-what-describe-returns-for-a-series-of-strings.-1.2\"><span class=\"toc-item-num\">1.2&nbsp;&nbsp;</span>b. Run <code>.describe()</code> method on the Series to see what describe returns for a series of strings.</a></span></li><li><span><a href=\"#c.-Run-the-code-necessary-to-produce-only-the-unique-fruit-names.\" data-toc-modified-id=\"c.-Run-the-code-necessary-to-produce-only-the-unique-fruit-names.-1.3\"><span class=\"toc-item-num\">1.3&nbsp;&nbsp;</span>c. Run the code necessary to produce only the unique fruit names.</a></span></li><li><span><a href=\"#d.-Determine-how-many-times-each-value-occurs-in-the-series.\" data-toc-modified-id=\"d.-Determine-how-many-times-each-value-occurs-in-the-series.-1.4\"><span class=\"toc-item-num\">1.4&nbsp;&nbsp;</span>d. Determine how many times each value occurs in the series.</a></span></li><li><span><a href=\"#e.-Determine-the-most-frequently-occurring-fruit-name-from-the-series.\" data-toc-modified-id=\"e.-Determine-the-most-frequently-occurring-fruit-name-from-the-series.-1.5\"><span class=\"toc-item-num\">1.5&nbsp;&nbsp;</span>e. Determine the most frequently occurring fruit name from the series.</a></span></li><li><span><a href=\"#f.-Determine-the-least-frequently-occurring-fruit-name-from-the-series.\" data-toc-modified-id=\"f.-Determine-the-least-frequently-occurring-fruit-name-from-the-series.-1.6\"><span class=\"toc-item-num\">1.6&nbsp;&nbsp;</span>f. Determine the least frequently occurring fruit name from the series.</a></span></li><li><span><a href=\"#g.-Write-the-code-to-get-the-longest-string-from-the-fruits-series.\" data-toc-modified-id=\"g.-Write-the-code-to-get-the-longest-string-from-the-fruits-series.-1.7\"><span class=\"toc-item-num\">1.7&nbsp;&nbsp;</span>g. Write the code to get the longest string from the fruits series.</a></span></li><li><span><a href=\"#h.-Find-the-fruit(s)-with-5-or-more-letters-in-the-name.\" data-toc-modified-id=\"h.-Find-the-fruit(s)-with-5-or-more-letters-in-the-name.-1.8\"><span class=\"toc-item-num\">1.8&nbsp;&nbsp;</span>h. Find the fruit(s) with 5 or more letters in the name.</a></span></li><li><span><a href=\"#i.-Capitalize-all-the-fruit-strings-in-the-series.\" data-toc-modified-id=\"i.-Capitalize-all-the-fruit-strings-in-the-series.-1.9\"><span class=\"toc-item-num\">1.9&nbsp;&nbsp;</span>i. Capitalize all the fruit strings in the series.</a></span></li><li><span><a href=\"#j.-Count-the-letter-&quot;a&quot;-in-all-the-fruits-(use-string-vectorization).\" data-toc-modified-id=\"j.-Count-the-letter-&quot;a&quot;-in-all-the-fruits-(use-string-vectorization).-1.10\"><span class=\"toc-item-num\">1.10&nbsp;&nbsp;</span>j. Count the letter \"a\" in all the fruits (use string vectorization).</a></span></li><li><span><a href=\"#k.-Output-the-number-of-vowels-in-each-and-every-fruit.\" data-toc-modified-id=\"k.-Output-the-number-of-vowels-in-each-and-every-fruit.-1.11\"><span class=\"toc-item-num\">1.11&nbsp;&nbsp;</span>k. Output the number of vowels in each and every fruit.</a></span></li><li><span><a href=\"#l.-Use-the-.apply()-method-and-a-lambda-function-to-find-the-fruit(s)-containing-two-or-more-&quot;o&quot;-letters-in-the-name.\" data-toc-modified-id=\"l.-Use-the-.apply()-method-and-a-lambda-function-to-find-the-fruit(s)-containing-two-or-more-&quot;o&quot;-letters-in-the-name.-1.12\"><span class=\"toc-item-num\">1.12&nbsp;&nbsp;</span>l. Use the <code>.apply()</code> method and a lambda function to find the fruit(s) containing two or more \"o\" letters in the name.</a></span></li><li><span><a href=\"#m.-Write-the-code-to-get-only-the-fruits-containing-&quot;berry&quot;-in-the-name.\" data-toc-modified-id=\"m.-Write-the-code-to-get-only-the-fruits-containing-&quot;berry&quot;-in-the-name.-1.13\"><span class=\"toc-item-num\">1.13&nbsp;&nbsp;</span>m. Write the code to get only the fruits containing \"berry\" in the name.</a></span></li><li><span><a href=\"#n.-Write-the-code-to-get-only-the-fruits-containing-&quot;apple&quot;-in-the-name.\" data-toc-modified-id=\"n.-Write-the-code-to-get-only-the-fruits-containing-&quot;apple&quot;-in-the-name.-1.14\"><span class=\"toc-item-num\">1.14&nbsp;&nbsp;</span>n. Write the code to get only the fruits containing \"apple\" in the name.</a></span></li><li><span><a href=\"#o.-Which-fruit-has-the-highest-amount-of-vowels?\" data-toc-modified-id=\"o.-Which-fruit-has-the-highest-amount-of-vowels?-1.15\"><span class=\"toc-item-num\">1.15&nbsp;&nbsp;</span>o. Which fruit has the highest amount of vowels?</a></span></li></ul></li><li><span><a href=\"#2.-Use-pandas-to-create-a-Series-from-the-following-data:\" data-toc-modified-id=\"2.-Use-pandas-to-create-a-Series-from-the-following-data:-2\"><span class=\"toc-item-num\">2&nbsp;&nbsp;</span>2. Use pandas to create a Series from the following data:</a></span><ul class=\"toc-item\"><li><span><a href=\"#a.-What-is-the-data-type-of-the-series?\" data-toc-modified-id=\"a.-What-is-the-data-type-of-the-series?-2.1\"><span class=\"toc-item-num\">2.1&nbsp;&nbsp;</span>a. What is the data type of the series?</a></span></li><li><span><a href=\"#b.-Use-series-operations-to-convert-the-series-to-a-numeric-data-type.\" data-toc-modified-id=\"b.-Use-series-operations-to-convert-the-series-to-a-numeric-data-type.-2.2\"><span class=\"toc-item-num\">2.2&nbsp;&nbsp;</span>b. Use series operations to convert the series to a numeric data type.</a></span></li><li><span><a href=\"#c.-What-is-the-maximum-value?\" data-toc-modified-id=\"c.-What-is-the-maximum-value?-2.3\"><span class=\"toc-item-num\">2.3&nbsp;&nbsp;</span>c. What is the maximum value?</a></span></li><li><span><a href=\"#d.-Bin-the-data-into-4-equally-sized-intervals-and-show-how-many-values-fall-into-each-bin.\" data-toc-modified-id=\"d.-Bin-the-data-into-4-equally-sized-intervals-and-show-how-many-values-fall-into-each-bin.-2.4\"><span class=\"toc-item-num\">2.4&nbsp;&nbsp;</span>d. Bin the data into 4 equally sized intervals and show how many values fall into each bin.</a></span></li><li><span><a href=\"#e.-Plot-a-histogram-of-the-data.-Be-sure-to-include-a-title-and-axis-labels.\" data-toc-modified-id=\"e.-Plot-a-histogram-of-the-data.-Be-sure-to-include-a-title-and-axis-labels.-2.5\"><span class=\"toc-item-num\">2.5&nbsp;&nbsp;</span>e. Plot a histogram of the data. Be sure to include a title and axis labels.</a></span></li></ul></li><li><span><a href=\"#3.-Use-pandas-to-create-a-Series-from-the-following-exam-scores:\" data-toc-modified-id=\"3.-Use-pandas-to-create-a-Series-from-the-following-exam-scores:-3\"><span class=\"toc-item-num\">3&nbsp;&nbsp;</span>3. Use pandas to create a Series from the following exam scores:</a></span><ul class=\"toc-item\"><li><span><a href=\"#a.-What-is-the-minimum-exam-score?-The-max,-mean,-median?\" data-toc-modified-id=\"a.-What-is-the-minimum-exam-score?-The-max,-mean,-median?-3.1\"><span class=\"toc-item-num\">3.1&nbsp;&nbsp;</span>a. What is the minimum exam score? The max, mean, median?</a></span></li><li><span><a href=\"#b.-Plot-a-histogram-of-the-scores.\" data-toc-modified-id=\"b.-Plot-a-histogram-of-the-scores.-3.2\"><span class=\"toc-item-num\">3.2&nbsp;&nbsp;</span>b. Plot a histogram of the scores.</a></span></li><li><span><a href=\"#c.-Convert-each-of-the-numbers-above-into-a-letter-grade.-For-example,-86-should-be-a-'B'-and-95-should-be-an-'A'.\" data-toc-modified-id=\"c.-Convert-each-of-the-numbers-above-into-a-letter-grade.-For-example,-86-should-be-a-'B'-and-95-should-be-an-'A'.-3.3\"><span class=\"toc-item-num\">3.3&nbsp;&nbsp;</span>c. Convert each of the numbers above into a letter grade. For example, 86 should be a 'B' and 95 should be an 'A'.</a></span></li><li><span><a href=\"#d.-Write-the-code-necessary-to-implement-a-curve.\" data-toc-modified-id=\"d.-Write-the-code-necessary-to-implement-a-curve.-3.4\"><span class=\"toc-item-num\">3.4&nbsp;&nbsp;</span>d. Write the code necessary to implement a curve.</a></span></li></ul></li><li><span><a href=\"#4.-Use-pandas-to-create-a-Series-from-the-following-string:\" data-toc-modified-id=\"4.-Use-pandas-to-create-a-Series-from-the-following-string:-4\"><span class=\"toc-item-num\">4&nbsp;&nbsp;</span>4. Use pandas to create a Series from the following string:</a></span><ul class=\"toc-item\"><li><span><a href=\"#a.-What-is-the-most-frequently-occuring-letter?-Least-frequently-occuring?\" data-toc-modified-id=\"a.-What-is-the-most-frequently-occuring-letter?-Least-frequently-occuring?-4.1\"><span class=\"toc-item-num\">4.1&nbsp;&nbsp;</span>a. What is the most frequently occuring letter? Least frequently occuring?</a></span></li><li><span><a href=\"#b.-How-many-vowels-are-in-the-list?\" data-toc-modified-id=\"b.-How-many-vowels-are-in-the-list?-4.2\"><span class=\"toc-item-num\">4.2&nbsp;&nbsp;</span>b. How many vowels are in the list?</a></span></li><li><span><a href=\"#c.-How-many-consonants-are-in-the-list?\" data-toc-modified-id=\"c.-How-many-consonants-are-in-the-list?-4.3\"><span class=\"toc-item-num\">4.3&nbsp;&nbsp;</span>c. How many consonants are in the list?</a></span></li><li><span><a href=\"#d.-Create-a-series-that-has-all-of-the-same-letters,-but-uppercased.\" data-toc-modified-id=\"d.-Create-a-series-that-has-all-of-the-same-letters,-but-uppercased.-4.4\"><span class=\"toc-item-num\">4.4&nbsp;&nbsp;</span>d. Create a series that has all of the same letters, but uppercased.</a></span></li><li><span><a href=\"#e.-Create-a-bar-plot-of-the-frequencies-of-the-6-most-frequently-occuring-letters.\" data-toc-modified-id=\"e.-Create-a-bar-plot-of-the-frequencies-of-the-6-most-frequently-occuring-letters.-4.5\"><span class=\"toc-item-num\">4.5&nbsp;&nbsp;</span>e. Create a bar plot of the frequencies of the 6 most frequently occuring letters.</a></span></li></ul></li><li><span><a href=\"#5.-Student-Solution-Walkthroughs!!\" data-toc-modified-id=\"5.-Student-Solution-Walkthroughs!!-5\"><span class=\"toc-item-num\">5&nbsp;&nbsp;</span>5. Student Solution Walkthroughs!!</a></span></li></ul></div>"
   ]
  },
  {
   "cell_type": "markdown",
   "metadata": {},
   "source": [
    "<hr style=\"border-top: 10px groove thistle; margin-top: 1px; margin-bottom: 1px\"></hr>"
   ]
  },
  {
   "cell_type": "markdown",
   "metadata": {},
   "source": [
    "# <font color=thistle>Pandas Series Exercises</font>\n",
    "\n",
    "# Big Idea\n",
    "\n",
    ">Change is a process, not an event. - Julie Dirksen (Design for How People Learn)\n",
    "\n",
    "# Objectives \n",
    "\n",
    "By the end of the lesson and exercises, you will...\n",
    "\n",
    "- know how to create and read data into a pandas Series.\n",
    "\n",
    "- understand the vectorized functionality of the pandas Series.\n",
    "\n",
    "- be able to apply various methods and attributes to a pandas Series.\n",
    "\n",
    "- apply what you learned to solve previously seen problems in a different way.\n",
    "\n",
    "<hr style=\"border-top: 10px groove thistle; margin-top: 1px; margin-bottom: 1px\"></hr>"
   ]
  },
  {
   "cell_type": "code",
   "execution_count": 3,
   "metadata": {},
   "outputs": [],
   "source": [
    "import numpy as np\n",
    "import pandas as pd\n",
    "\n",
    "import matplotlib.pyplot as plt\n",
    "%matplotlib inline\n",
    "\n",
    "plt.rc('figure', figsize=(12, 6))"
   ]
  },
  {
   "cell_type": "markdown",
   "metadata": {},
   "source": [
    "<hr style=\"border-top: 10px groove thistle; margin-top: 1px; margin-bottom: 1px\"></hr>"
   ]
  },
  {
   "cell_type": "markdown",
   "metadata": {},
   "source": [
    "### 1. Use pandas to create a Series from the following data:"
   ]
  },
  {
   "cell_type": "code",
   "execution_count": 4,
   "metadata": {},
   "outputs": [
    {
     "name": "stdout",
     "output_type": "stream",
     "text": [
      "fruits is a <class 'list'>.\n"
     ]
    }
   ],
   "source": [
    "fruits_list = [\"kiwi\", \"mango\", \"strawberry\", \"pineapple\", \"gala apple\", \"honeycrisp apple\", \"tomato\", \"watermelon\", \"honeydew\", \"kiwi\", \"kiwi\", \"kiwi\", \"mango\", \"blueberry\", \"blackberry\", \"gooseberry\", \"papaya\"]\n",
    "print(f'fruits is a {type(fruits_list)}.')"
   ]
  },
  {
   "cell_type": "markdown",
   "metadata": {},
   "source": [
    "___"
   ]
  },
  {
   "cell_type": "markdown",
   "metadata": {},
   "source": [
    "#### a. Name the variable that holds the series fruits."
   ]
  },
  {
   "cell_type": "code",
   "execution_count": 5,
   "metadata": {},
   "outputs": [
    {
     "name": "stdout",
     "output_type": "stream",
     "text": [
      "fruits is a <class 'pandas.core.series.Series'>.\n"
     ]
    }
   ],
   "source": [
    "fruits = pd.Series(fruits_list)\n",
    "print(f'fruits is a {type(fruits)}.')"
   ]
  },
  {
   "cell_type": "markdown",
   "metadata": {},
   "source": [
    "___"
   ]
  },
  {
   "cell_type": "markdown",
   "metadata": {},
   "source": [
    "#### b. Run `.describe()` method on the Series to see what describe returns for a series of strings.\n",
    "\n",
    "- `fruits` is a non-numerical Series, so we get back a Series with: \n",
    "    - the count of elements in the `fruits` Series.\n",
    "    - the count of the unique elements in the `fruits` Series.\n",
    "    - the most frequently occuring element in the `fruits` Series. (mode)\n",
    "    - the frequency of the most frequently occuring element."
   ]
  },
  {
   "cell_type": "code",
   "execution_count": 6,
   "metadata": {},
   "outputs": [
    {
     "data": {
      "text/plain": [
       "count       17\n",
       "unique      13\n",
       "top       kiwi\n",
       "freq         4\n",
       "dtype: object"
      ]
     },
     "execution_count": 6,
     "metadata": {},
     "output_type": "execute_result"
    }
   ],
   "source": [
    "fruits.describe()"
   ]
  },
  {
   "cell_type": "markdown",
   "metadata": {},
   "source": [
    "___"
   ]
  },
  {
   "cell_type": "markdown",
   "metadata": {},
   "source": [
    "#### c. Run the code necessary to produce only the unique fruit names.\n",
    "\n",
    "- The `.unique()` function returns the unique elements from a pandas Series in a NumPy array."
   ]
  },
  {
   "cell_type": "code",
   "execution_count": 7,
   "metadata": {},
   "outputs": [
    {
     "data": {
      "text/plain": [
       "array(['kiwi', 'mango', 'strawberry', 'pineapple', 'gala apple',\n",
       "       'honeycrisp apple', 'tomato', 'watermelon', 'honeydew',\n",
       "       'blueberry', 'blackberry', 'gooseberry', 'papaya'], dtype=object)"
      ]
     },
     "execution_count": 7,
     "metadata": {},
     "output_type": "execute_result"
    }
   ],
   "source": [
    "fruits.unique()"
   ]
  },
  {
   "cell_type": "code",
   "execution_count": 8,
   "metadata": {},
   "outputs": [
    {
     "name": "stdout",
     "output_type": "stream",
     "text": [
      "Calling the `.unique()` method on a Series returns a <class 'numpy.ndarray'>.\n"
     ]
    }
   ],
   "source": [
    "print(f'Calling the `.unique()` method on a Series returns a {type(fruits.unique())}.')"
   ]
  },
  {
   "cell_type": "markdown",
   "metadata": {},
   "source": [
    "-  What if I wanted to know the number of unique elements in my Series?"
   ]
  },
  {
   "cell_type": "code",
   "execution_count": 9,
   "metadata": {},
   "outputs": [
    {
     "data": {
      "text/plain": [
       "13"
      ]
     },
     "execution_count": 9,
     "metadata": {},
     "output_type": "execute_result"
    }
   ],
   "source": [
    "fruits.nunique()"
   ]
  },
  {
   "cell_type": "markdown",
   "metadata": {},
   "source": [
    "___"
   ]
  },
  {
   "cell_type": "markdown",
   "metadata": {},
   "source": [
    "#### d. Determine how many times each value occurs in the series."
   ]
  },
  {
   "cell_type": "code",
   "execution_count": 10,
   "metadata": {},
   "outputs": [
    {
     "data": {
      "text/plain": [
       "kiwi                4\n",
       "mango               2\n",
       "honeydew            1\n",
       "watermelon          1\n",
       "papaya              1\n",
       "blueberry           1\n",
       "blackberry          1\n",
       "strawberry          1\n",
       "pineapple           1\n",
       "gooseberry          1\n",
       "tomato              1\n",
       "honeycrisp apple    1\n",
       "gala apple          1\n",
       "dtype: int64"
      ]
     },
     "execution_count": 10,
     "metadata": {},
     "output_type": "execute_result"
    }
   ],
   "source": [
    "fruits.value_counts()"
   ]
  },
  {
   "cell_type": "code",
   "execution_count": 11,
   "metadata": {},
   "outputs": [
    {
     "name": "stdout",
     "output_type": "stream",
     "text": [
      "Calling the `.value_counts()` method on a Series returns a <class 'pandas.core.series.Series'>.\n"
     ]
    }
   ],
   "source": [
    "print(f'Calling the `.value_counts()` method on a Series returns a {type(fruits.value_counts())}.')"
   ]
  },
  {
   "cell_type": "markdown",
   "metadata": {},
   "source": [
    "___"
   ]
  },
  {
   "cell_type": "markdown",
   "metadata": {},
   "source": [
    "#### e. Determine the most frequently occurring fruit name from the series.\n",
    "\n",
    "- As always, there are several ways to acquire this information. I'm demonstrating a few here, but as is true in life, context is key. Your data needs will dictate the best method to use. Are you just exploring, do you need a single value, what data type do you want, etc."
   ]
  },
  {
   "cell_type": "code",
   "execution_count": 13,
   "metadata": {},
   "outputs": [
    {
     "data": {
      "text/plain": [
       "kiwi    4\n",
       "dtype: int64"
      ]
     },
     "execution_count": 13,
     "metadata": {},
     "output_type": "execute_result"
    }
   ],
   "source": [
    "# If I know that there is only one row with the max value, this is cool.\n",
    "\n",
    "fruits.value_counts().head(1)"
   ]
  },
  {
   "cell_type": "code",
   "execution_count": 14,
   "metadata": {},
   "outputs": [
    {
     "data": {
      "text/plain": [
       "kiwi    4\n",
       "dtype: int64"
      ]
     },
     "execution_count": 14,
     "metadata": {},
     "output_type": "execute_result"
    }
   ],
   "source": [
    "# What if there's more than one row with the max value?\n",
    "\n",
    "fruits.value_counts().nlargest(n=1, keep='all')"
   ]
  },
  {
   "cell_type": "code",
   "execution_count": 17,
   "metadata": {},
   "outputs": [
    {
     "data": {
      "text/plain": [
       "'kiwi'"
      ]
     },
     "execution_count": 17,
     "metadata": {},
     "output_type": "execute_result"
    }
   ],
   "source": [
    "# .idxmax() returns the index or row label with the max value.\n",
    "\n",
    "fruits.value_counts().nlargest(n=1, keep='all').idxmax()"
   ]
  },
  {
   "cell_type": "code",
   "execution_count": 18,
   "metadata": {},
   "outputs": [
    {
     "data": {
      "text/plain": [
       "'kiwi'"
      ]
     },
     "execution_count": 18,
     "metadata": {},
     "output_type": "execute_result"
    }
   ],
   "source": [
    "fruits.value_counts().nlargest(n=1).idxmax()"
   ]
  },
  {
   "cell_type": "markdown",
   "metadata": {},
   "source": [
    "___"
   ]
  },
  {
   "cell_type": "markdown",
   "metadata": {},
   "source": [
    "#### f. Determine the least frequently occurring fruit name from the series."
   ]
  },
  {
   "cell_type": "code",
   "execution_count": 21,
   "metadata": {},
   "outputs": [
    {
     "data": {
      "text/plain": [
       "honeydew            1\n",
       "watermelon          1\n",
       "papaya              1\n",
       "blueberry           1\n",
       "blackberry          1\n",
       "strawberry          1\n",
       "pineapple           1\n",
       "gooseberry          1\n",
       "tomato              1\n",
       "honeycrisp apple    1\n",
       "gala apple          1\n",
       "dtype: int64"
      ]
     },
     "execution_count": 21,
     "metadata": {},
     "output_type": "execute_result"
    }
   ],
   "source": [
    "# I have to set the n manually here.\n",
    "\n",
    "fruits.value_counts().tail(11)"
   ]
  },
  {
   "cell_type": "code",
   "execution_count": 125,
   "metadata": {},
   "outputs": [
    {
     "data": {
      "text/plain": [
       "gala apple          1\n",
       "honeycrisp apple    1\n",
       "tomato              1\n",
       "gooseberry          1\n",
       "pineapple           1\n",
       "dtype: int64"
      ]
     },
     "execution_count": 125,
     "metadata": {},
     "output_type": "execute_result"
    }
   ],
   "source": [
    "# This is a more programmatic way to handle it when I don't have a Series with 17 elements.\n",
    "\n",
    "fruits.value_counts().nsmallest(keep='last')"
   ]
  },
  {
   "cell_type": "code",
   "execution_count": 119,
   "metadata": {},
   "outputs": [
    {
     "data": {
      "text/plain": [
       "['honeydew',\n",
       " 'watermelon',\n",
       " 'papaya',\n",
       " 'blueberry',\n",
       " 'blackberry',\n",
       " 'strawberry',\n",
       " 'pineapple',\n",
       " 'gooseberry',\n",
       " 'tomato',\n",
       " 'honeycrisp apple',\n",
       " 'gala apple']"
      ]
     },
     "execution_count": 119,
     "metadata": {},
     "output_type": "execute_result"
    }
   ],
   "source": [
    "# The `.idxmin()` method will only return the first occurance, so I had to do something a little diff here.\n",
    "\n",
    "fruits.value_counts().nsmallest(keep='all').index.to_list()"
   ]
  },
  {
   "cell_type": "markdown",
   "metadata": {},
   "source": [
    "___"
   ]
  },
  {
   "cell_type": "markdown",
   "metadata": {},
   "source": [
    "#### g. Write the code to get the longest string from the fruits series.\n",
    "\n",
    "Again, I'll demonstrate a couple of ways to acquire this information. \n",
    "\n",
    "- If you want to learn more about using the python `.max()` function with a key, [here](https://www.programiz.com/python-programming/methods/built-in/max) is a cool tutorial."
   ]
  },
  {
   "cell_type": "code",
   "execution_count": 26,
   "metadata": {},
   "outputs": [
    {
     "data": {
      "text/plain": [
       "0      4\n",
       "1      5\n",
       "2     10\n",
       "3      9\n",
       "4     10\n",
       "5     16\n",
       "6      6\n",
       "7     10\n",
       "8      8\n",
       "9      4\n",
       "10     4\n",
       "11     4\n",
       "12     5\n",
       "13     9\n",
       "14    10\n",
       "15    10\n",
       "16     6\n",
       "dtype: int64"
      ]
     },
     "execution_count": 26,
     "metadata": {},
     "output_type": "execute_result"
    }
   ],
   "source": [
    "fruits.str.len()"
   ]
  },
  {
   "cell_type": "code",
   "execution_count": 27,
   "metadata": {},
   "outputs": [
    {
     "data": {
      "text/plain": [
       "16"
      ]
     },
     "execution_count": 27,
     "metadata": {},
     "output_type": "execute_result"
    }
   ],
   "source": [
    "fruits.str.len().max()"
   ]
  },
  {
   "cell_type": "code",
   "execution_count": 28,
   "metadata": {},
   "outputs": [
    {
     "data": {
      "text/plain": [
       "0     False\n",
       "1     False\n",
       "2     False\n",
       "3     False\n",
       "4     False\n",
       "5      True\n",
       "6     False\n",
       "7     False\n",
       "8     False\n",
       "9     False\n",
       "10    False\n",
       "11    False\n",
       "12    False\n",
       "13    False\n",
       "14    False\n",
       "15    False\n",
       "16    False\n",
       "dtype: bool"
      ]
     },
     "execution_count": 28,
     "metadata": {},
     "output_type": "execute_result"
    }
   ],
   "source": [
    "# Find the max length for the elements in the Series.\n",
    "max_len = fruits.str.len().max()\n",
    "\n",
    "# Create a boolean Series for element in the Series meeting my condition.\n",
    "bool_fruits = fruits.str.len() == max_len\n",
    "bool_fruits"
   ]
  },
  {
   "cell_type": "code",
   "execution_count": 29,
   "metadata": {},
   "outputs": [
    {
     "data": {
      "text/plain": [
       "5    honeycrisp apple\n",
       "dtype: object"
      ]
     },
     "execution_count": 29,
     "metadata": {},
     "output_type": "execute_result"
    }
   ],
   "source": [
    "# Use indexing with my boolean Series.\n",
    "\n",
    "fruits[bool_fruits]"
   ]
  },
  {
   "cell_type": "code",
   "execution_count": 30,
   "metadata": {},
   "outputs": [
    {
     "data": {
      "text/plain": [
       "['kiwi',\n",
       " 'mango',\n",
       " 'strawberry',\n",
       " 'pineapple',\n",
       " 'gala apple',\n",
       " 'honeycrisp apple',\n",
       " 'tomato',\n",
       " 'watermelon',\n",
       " 'honeydew',\n",
       " 'kiwi',\n",
       " 'kiwi',\n",
       " 'kiwi',\n",
       " 'mango',\n",
       " 'blueberry',\n",
       " 'blackberry',\n",
       " 'gooseberry',\n",
       " 'papaya']"
      ]
     },
     "execution_count": 30,
     "metadata": {},
     "output_type": "execute_result"
    }
   ],
   "source": [
    "fruits.to_list()"
   ]
  },
  {
   "cell_type": "code",
   "execution_count": 31,
   "metadata": {},
   "outputs": [
    {
     "data": {
      "text/plain": [
       "'honeycrisp apple'"
      ]
     },
     "execution_count": 31,
     "metadata": {},
     "output_type": "execute_result"
    }
   ],
   "source": [
    "# I absolutely love this way ever since I learned about using a key with max. I had to convert fruits to a list.\n",
    "\n",
    "max(fruits.to_list(), key = len)"
   ]
  },
  {
   "cell_type": "markdown",
   "metadata": {},
   "source": [
    "___"
   ]
  },
  {
   "cell_type": "markdown",
   "metadata": {},
   "source": [
    "#### h. Find the fruit(s) with 5 or more letters in the name."
   ]
  },
  {
   "cell_type": "code",
   "execution_count": 32,
   "metadata": {},
   "outputs": [
    {
     "data": {
      "text/plain": [
       "0     False\n",
       "1      True\n",
       "2      True\n",
       "3      True\n",
       "4      True\n",
       "5      True\n",
       "6      True\n",
       "7      True\n",
       "8      True\n",
       "9     False\n",
       "10    False\n",
       "11    False\n",
       "12     True\n",
       "13     True\n",
       "14     True\n",
       "15     True\n",
       "16     True\n",
       "dtype: bool"
      ]
     },
     "execution_count": 32,
     "metadata": {},
     "output_type": "execute_result"
    }
   ],
   "source": [
    "# Create the boolean Series and pass it as a selector to my indexing operator.\n",
    "\n",
    "fruits.str.len() > 4"
   ]
  },
  {
   "cell_type": "code",
   "execution_count": 33,
   "metadata": {},
   "outputs": [
    {
     "data": {
      "text/plain": [
       "1                mango\n",
       "2           strawberry\n",
       "3            pineapple\n",
       "4           gala apple\n",
       "5     honeycrisp apple\n",
       "6               tomato\n",
       "7           watermelon\n",
       "8             honeydew\n",
       "12               mango\n",
       "13           blueberry\n",
       "14          blackberry\n",
       "15          gooseberry\n",
       "16              papaya\n",
       "dtype: object"
      ]
     },
     "execution_count": 33,
     "metadata": {},
     "output_type": "execute_result"
    }
   ],
   "source": [
    "fruits[fruits.str.len() > 4]"
   ]
  },
  {
   "cell_type": "markdown",
   "metadata": {},
   "source": [
    "___"
   ]
  },
  {
   "cell_type": "markdown",
   "metadata": {},
   "source": [
    "#### i. Capitalize all the fruit strings in the series.\n",
    "\n",
    "- The `.str` attribute gives me access to vectorized string functions or methods, so I can perform the same manipulation on every element in my Series. *Remember, unless I reassign this Series, my original Series has not been changed.*"
   ]
  },
  {
   "cell_type": "code",
   "execution_count": 34,
   "metadata": {},
   "outputs": [
    {
     "data": {
      "text/plain": [
       "0                 Kiwi\n",
       "1                Mango\n",
       "2           Strawberry\n",
       "3            Pineapple\n",
       "4           Gala apple\n",
       "5     Honeycrisp apple\n",
       "6               Tomato\n",
       "7           Watermelon\n",
       "8             Honeydew\n",
       "9                 Kiwi\n",
       "10                Kiwi\n",
       "11                Kiwi\n",
       "12               Mango\n",
       "13           Blueberry\n",
       "14          Blackberry\n",
       "15          Gooseberry\n",
       "16              Papaya\n",
       "dtype: object"
      ]
     },
     "execution_count": 34,
     "metadata": {},
     "output_type": "execute_result"
    }
   ],
   "source": [
    "fruits.str.capitalize()"
   ]
  },
  {
   "cell_type": "code",
   "execution_count": 35,
   "metadata": {},
   "outputs": [
    {
     "data": {
      "text/plain": [
       "0                 kiwi\n",
       "1                mango\n",
       "2           strawberry\n",
       "3            pineapple\n",
       "4           gala apple\n",
       "5     honeycrisp apple\n",
       "6               tomato\n",
       "7           watermelon\n",
       "8             honeydew\n",
       "9                 kiwi\n",
       "10                kiwi\n",
       "11                kiwi\n",
       "12               mango\n",
       "13           blueberry\n",
       "14          blackberry\n",
       "15          gooseberry\n",
       "16              papaya\n",
       "dtype: object"
      ]
     },
     "execution_count": 35,
     "metadata": {},
     "output_type": "execute_result"
    }
   ],
   "source": [
    "fruits"
   ]
  },
  {
   "cell_type": "markdown",
   "metadata": {},
   "source": [
    "___"
   ]
  },
  {
   "cell_type": "markdown",
   "metadata": {},
   "source": [
    "#### j. Count the letter \"a\" in all the fruits (use string vectorization).\n",
    "\n",
    "- The `.count()` string method will count the occurrence of a string or regex pattern in each string of a Series and return a new Series."
   ]
  },
  {
   "cell_type": "code",
   "execution_count": 36,
   "metadata": {},
   "outputs": [
    {
     "data": {
      "text/plain": [
       "0     0\n",
       "1     1\n",
       "2     1\n",
       "3     1\n",
       "4     3\n",
       "5     1\n",
       "6     1\n",
       "7     1\n",
       "8     0\n",
       "9     0\n",
       "10    0\n",
       "11    0\n",
       "12    1\n",
       "13    0\n",
       "14    1\n",
       "15    0\n",
       "16    3\n",
       "dtype: int64"
      ]
     },
     "execution_count": 36,
     "metadata": {},
     "output_type": "execute_result"
    }
   ],
   "source": [
    "fruits.str.count('a')"
   ]
  },
  {
   "cell_type": "markdown",
   "metadata": {},
   "source": [
    "___"
   ]
  },
  {
   "cell_type": "markdown",
   "metadata": {},
   "source": [
    "#### k. Output the number of vowels in each and every fruit.\n",
    "\n",
    "- I can write a function to count the vowels in a single string and apply that function to every value in the Series.\n",
    "\n",
    "- I can pass a regex pattern to the `.count()` string method that looks for any of the characters in the square brackets in each string value in my Series. *We will do A LOT more with regular expressions in the future, but I like this solution because it uses the vectorized functionality of my string method with my pandas Series.*\n",
    "\n",
    ">`[..]` matches any single character in the square brackets and `[^..]` matches any single character not in the square brackets."
   ]
  },
  {
   "cell_type": "code",
   "execution_count": 37,
   "metadata": {},
   "outputs": [
    {
     "data": {
      "text/plain": [
       "['a', 'e', 'i', 'o', 'u']"
      ]
     },
     "execution_count": 37,
     "metadata": {},
     "output_type": "execute_result"
    }
   ],
   "source": [
    "vowels = list('aeiou')\n",
    "vowels"
   ]
  },
  {
   "cell_type": "code",
   "execution_count": 38,
   "metadata": {},
   "outputs": [],
   "source": [
    "def count_vowels(fruit):\n",
    "    return len([let for let in fruit.lower() if let in vowels])"
   ]
  },
  {
   "cell_type": "code",
   "execution_count": 39,
   "metadata": {},
   "outputs": [
    {
     "data": {
      "text/plain": [
       "0     2\n",
       "1     2\n",
       "2     2\n",
       "3     4\n",
       "4     4\n",
       "5     5\n",
       "6     3\n",
       "7     4\n",
       "8     3\n",
       "9     2\n",
       "10    2\n",
       "11    2\n",
       "12    2\n",
       "13    3\n",
       "14    2\n",
       "15    4\n",
       "16    3\n",
       "dtype: int64"
      ]
     },
     "execution_count": 39,
     "metadata": {},
     "output_type": "execute_result"
    }
   ],
   "source": [
    "fruits.apply(count_vowels)"
   ]
  },
  {
   "cell_type": "markdown",
   "metadata": {},
   "source": [
    "___"
   ]
  },
  {
   "cell_type": "code",
   "execution_count": 40,
   "metadata": {},
   "outputs": [
    {
     "data": {
      "text/plain": [
       "0     2\n",
       "1     2\n",
       "2     2\n",
       "3     4\n",
       "4     4\n",
       "5     5\n",
       "6     3\n",
       "7     4\n",
       "8     3\n",
       "9     2\n",
       "10    2\n",
       "11    2\n",
       "12    2\n",
       "13    3\n",
       "14    2\n",
       "15    4\n",
       "16    3\n",
       "dtype: int64"
      ]
     },
     "execution_count": 40,
     "metadata": {},
     "output_type": "execute_result"
    }
   ],
   "source": [
    "vowel_counts = fruits.str.lower().str.count(r'[aeiou]')\n",
    "vowel_counts"
   ]
  },
  {
   "cell_type": "code",
   "execution_count": 41,
   "metadata": {},
   "outputs": [
    {
     "data": {
      "text/plain": [
       "pandas.core.series.Series"
      ]
     },
     "execution_count": 41,
     "metadata": {},
     "output_type": "execute_result"
    }
   ],
   "source": [
    "type(fruits)"
   ]
  },
  {
   "cell_type": "markdown",
   "metadata": {},
   "source": [
    "___"
   ]
  },
  {
   "cell_type": "code",
   "execution_count": 42,
   "metadata": {},
   "outputs": [
    {
     "data": {
      "text/plain": [
       "0                 kiwi\n",
       "1                mango\n",
       "2           strawberry\n",
       "3            pineapple\n",
       "4           gala apple\n",
       "5     honeycrisp apple\n",
       "6               tomato\n",
       "7           watermelon\n",
       "8             honeydew\n",
       "9                 kiwi\n",
       "10                kiwi\n",
       "11                kiwi\n",
       "12               mango\n",
       "13           blueberry\n",
       "14          blackberry\n",
       "15          gooseberry\n",
       "16              papaya\n",
       "dtype: object"
      ]
     },
     "execution_count": 42,
     "metadata": {},
     "output_type": "execute_result"
    }
   ],
   "source": [
    "fruits"
   ]
  },
  {
   "cell_type": "code",
   "execution_count": 43,
   "metadata": {},
   "outputs": [
    {
     "data": {
      "text/html": [
       "<div>\n",
       "<style scoped>\n",
       "    .dataframe tbody tr th:only-of-type {\n",
       "        vertical-align: middle;\n",
       "    }\n",
       "\n",
       "    .dataframe tbody tr th {\n",
       "        vertical-align: top;\n",
       "    }\n",
       "\n",
       "    .dataframe thead th {\n",
       "        text-align: right;\n",
       "    }\n",
       "</style>\n",
       "<table border=\"1\" class=\"dataframe\">\n",
       "  <thead>\n",
       "    <tr style=\"text-align: right;\">\n",
       "      <th></th>\n",
       "      <th>fruits</th>\n",
       "      <th>vowel_count</th>\n",
       "    </tr>\n",
       "  </thead>\n",
       "  <tbody>\n",
       "    <tr>\n",
       "      <th>0</th>\n",
       "      <td>kiwi</td>\n",
       "      <td>2</td>\n",
       "    </tr>\n",
       "    <tr>\n",
       "      <th>1</th>\n",
       "      <td>mango</td>\n",
       "      <td>2</td>\n",
       "    </tr>\n",
       "    <tr>\n",
       "      <th>2</th>\n",
       "      <td>strawberry</td>\n",
       "      <td>2</td>\n",
       "    </tr>\n",
       "    <tr>\n",
       "      <th>3</th>\n",
       "      <td>pineapple</td>\n",
       "      <td>4</td>\n",
       "    </tr>\n",
       "    <tr>\n",
       "      <th>4</th>\n",
       "      <td>gala apple</td>\n",
       "      <td>4</td>\n",
       "    </tr>\n",
       "    <tr>\n",
       "      <th>5</th>\n",
       "      <td>honeycrisp apple</td>\n",
       "      <td>5</td>\n",
       "    </tr>\n",
       "    <tr>\n",
       "      <th>6</th>\n",
       "      <td>tomato</td>\n",
       "      <td>3</td>\n",
       "    </tr>\n",
       "    <tr>\n",
       "      <th>7</th>\n",
       "      <td>watermelon</td>\n",
       "      <td>4</td>\n",
       "    </tr>\n",
       "    <tr>\n",
       "      <th>8</th>\n",
       "      <td>honeydew</td>\n",
       "      <td>3</td>\n",
       "    </tr>\n",
       "    <tr>\n",
       "      <th>9</th>\n",
       "      <td>kiwi</td>\n",
       "      <td>2</td>\n",
       "    </tr>\n",
       "    <tr>\n",
       "      <th>10</th>\n",
       "      <td>kiwi</td>\n",
       "      <td>2</td>\n",
       "    </tr>\n",
       "    <tr>\n",
       "      <th>11</th>\n",
       "      <td>kiwi</td>\n",
       "      <td>2</td>\n",
       "    </tr>\n",
       "    <tr>\n",
       "      <th>12</th>\n",
       "      <td>mango</td>\n",
       "      <td>2</td>\n",
       "    </tr>\n",
       "    <tr>\n",
       "      <th>13</th>\n",
       "      <td>blueberry</td>\n",
       "      <td>3</td>\n",
       "    </tr>\n",
       "    <tr>\n",
       "      <th>14</th>\n",
       "      <td>blackberry</td>\n",
       "      <td>2</td>\n",
       "    </tr>\n",
       "    <tr>\n",
       "      <th>15</th>\n",
       "      <td>gooseberry</td>\n",
       "      <td>4</td>\n",
       "    </tr>\n",
       "    <tr>\n",
       "      <th>16</th>\n",
       "      <td>papaya</td>\n",
       "      <td>3</td>\n",
       "    </tr>\n",
       "  </tbody>\n",
       "</table>\n",
       "</div>"
      ],
      "text/plain": [
       "              fruits  vowel_count\n",
       "0               kiwi            2\n",
       "1              mango            2\n",
       "2         strawberry            2\n",
       "3          pineapple            4\n",
       "4         gala apple            4\n",
       "5   honeycrisp apple            5\n",
       "6             tomato            3\n",
       "7         watermelon            4\n",
       "8           honeydew            3\n",
       "9               kiwi            2\n",
       "10              kiwi            2\n",
       "11              kiwi            2\n",
       "12             mango            2\n",
       "13         blueberry            3\n",
       "14        blackberry            2\n",
       "15        gooseberry            4\n",
       "16            papaya            3"
      ]
     },
     "execution_count": 43,
     "metadata": {},
     "output_type": "execute_result"
    }
   ],
   "source": [
    "# Want to see the name and vowel_counts? Here's one way to handle that...the index is pretty cool!\n",
    "\n",
    "fruity_vowels = pd.DataFrame({'fruits': fruits, 'vowel_count': vowel_counts})\n",
    "fruity_vowels"
   ]
  },
  {
   "cell_type": "markdown",
   "metadata": {},
   "source": [
    "___"
   ]
  },
  {
   "cell_type": "markdown",
   "metadata": {},
   "source": [
    "#### l. Use the `.apply()` method and a lambda function to find the fruit(s) containing two or more \"o\" letters in the name.\n",
    "\n",
    "- Here I'm showing two steps, so you can see what's going on step by step.\n",
    "\n",
    "    1. I apply a lambda function that returns a boolean Series with values of `True` if the value in my `fruits` series meets the condition of having two or more 'o' letters and a `False` if the value in my `fruits` series does not meet the condition.\n",
    "    \n",
    "    2. I want the actual values from my `fruits` Series that evaluate to `True`, so I'm going to pass my boolean Series as a selector to the indexing operator `[]` and get a subset of my original Series."
   ]
  },
  {
   "cell_type": "code",
   "execution_count": 44,
   "metadata": {},
   "outputs": [
    {
     "data": {
      "text/plain": [
       "0     False\n",
       "1     False\n",
       "2     False\n",
       "3     False\n",
       "4     False\n",
       "5     False\n",
       "6      True\n",
       "7     False\n",
       "8     False\n",
       "9     False\n",
       "10    False\n",
       "11    False\n",
       "12    False\n",
       "13    False\n",
       "14    False\n",
       "15     True\n",
       "16    False\n",
       "dtype: bool"
      ]
     },
     "execution_count": 44,
     "metadata": {},
     "output_type": "execute_result"
    }
   ],
   "source": [
    "# Read this lambda function as, 'Return to me the fruit if the fruit meets my condition.'\n",
    "# By passing this to the `apply()` function, it applies my lambda function to each value in my series `fruits`.\n",
    "\n",
    "fruits.apply(lambda fruit: fruit.count('o') > 1)"
   ]
  },
  {
   "cell_type": "code",
   "execution_count": 47,
   "metadata": {},
   "outputs": [
    {
     "data": {
      "text/plain": [
       "6         tomato\n",
       "15    gooseberry\n",
       "dtype: object"
      ]
     },
     "execution_count": 47,
     "metadata": {},
     "output_type": "execute_result"
    }
   ],
   "source": [
    "# Read this boolean indexing as, 'Return to me the value in the `fruits` Series WHERE my value is True.'\n",
    "\n",
    "fruits[fruits.apply(lambda fruit: fruit.count('o') > 1)]"
   ]
  },
  {
   "cell_type": "markdown",
   "metadata": {},
   "source": [
    "___"
   ]
  },
  {
   "cell_type": "markdown",
   "metadata": {},
   "source": [
    "#### m. Write the code to get only the fruits containing \"berry\" in the name.\n",
    "\n",
    "- I'm going to use the same pattern I used above by creating a boolean Series for fruits that contain the string `berry` and using that boolean Series as a selector for a subset of data from my `fruits` Series."
   ]
  },
  {
   "cell_type": "code",
   "execution_count": 48,
   "metadata": {},
   "outputs": [
    {
     "data": {
      "text/plain": [
       "0     False\n",
       "1     False\n",
       "2      True\n",
       "3     False\n",
       "4     False\n",
       "5     False\n",
       "6     False\n",
       "7     False\n",
       "8     False\n",
       "9     False\n",
       "10    False\n",
       "11    False\n",
       "12    False\n",
       "13     True\n",
       "14     True\n",
       "15     True\n",
       "16    False\n",
       "dtype: bool"
      ]
     },
     "execution_count": 48,
     "metadata": {},
     "output_type": "execute_result"
    }
   ],
   "source": [
    "fruits.str.contains('berry')"
   ]
  },
  {
   "cell_type": "code",
   "execution_count": 49,
   "metadata": {},
   "outputs": [
    {
     "data": {
      "text/plain": [
       "2     strawberry\n",
       "13     blueberry\n",
       "14    blackberry\n",
       "15    gooseberry\n",
       "dtype: object"
      ]
     },
     "execution_count": 49,
     "metadata": {},
     "output_type": "execute_result"
    }
   ],
   "source": [
    "fruits[fruits.str.contains('berry')]"
   ]
  },
  {
   "cell_type": "code",
   "execution_count": 50,
   "metadata": {},
   "outputs": [
    {
     "name": "stdout",
     "output_type": "stream",
     "text": [
      "Notice that this subset is a new <class 'pandas.core.series.Series'>.\n",
      "\n",
      "If I want to reuse this subset Series, I have to assign it to a variable.\n"
     ]
    }
   ],
   "source": [
    "print(f\"Notice that this subset is a new {type(fruits[fruits.str.contains('berry')])}.\")\n",
    "print()\n",
    "print('If I want to reuse this subset Series, I have to assign it to a variable.')"
   ]
  },
  {
   "cell_type": "markdown",
   "metadata": {},
   "source": [
    "___"
   ]
  },
  {
   "cell_type": "markdown",
   "metadata": {},
   "source": [
    "#### n. Write the code to get only the fruits containing \"apple\" in the name.\n",
    "\n",
    "- This is the same as above but with a different string."
   ]
  },
  {
   "cell_type": "code",
   "execution_count": 51,
   "metadata": {},
   "outputs": [
    {
     "data": {
      "text/plain": [
       "3           pineapple\n",
       "4          gala apple\n",
       "5    honeycrisp apple\n",
       "dtype: object"
      ]
     },
     "execution_count": 51,
     "metadata": {},
     "output_type": "execute_result"
    }
   ],
   "source": [
    "fruits[fruits.str.contains('apple')]"
   ]
  },
  {
   "cell_type": "markdown",
   "metadata": {},
   "source": [
    "___"
   ]
  },
  {
   "cell_type": "markdown",
   "metadata": {},
   "source": [
    "#### o. Which fruit has the highest amount of vowels?\n",
    "\n",
    "- I can use my code to count vowels from above.\n",
    "\n",
    "- I can use the `idxmax()` function, BUT if I have more than one max value, this will only return the first. Here I have only one fruit with the most vowels, so I can get the index position of the max value and use that to filter my fruits Series.\n",
    "\n",
    "- I can also find the max value of vowel counts and create a bool Series as a filter for my fruits Series to return any and all values that have the highest number of vowels."
   ]
  },
  {
   "cell_type": "code",
   "execution_count": 52,
   "metadata": {},
   "outputs": [
    {
     "data": {
      "text/plain": [
       "0     2\n",
       "1     2\n",
       "2     2\n",
       "3     4\n",
       "4     4\n",
       "5     5\n",
       "6     3\n",
       "7     4\n",
       "8     3\n",
       "9     2\n",
       "10    2\n",
       "11    2\n",
       "12    2\n",
       "13    3\n",
       "14    2\n",
       "15    4\n",
       "16    3\n",
       "dtype: int64"
      ]
     },
     "execution_count": 52,
     "metadata": {},
     "output_type": "execute_result"
    }
   ],
   "source": [
    "# Get the count of vowels like I did in a previous problem.\n",
    "\n",
    "vowel_counts = fruits.str.count(r'[aeiou]')\n",
    "vowel_counts"
   ]
  },
  {
   "cell_type": "code",
   "execution_count": 53,
   "metadata": {},
   "outputs": [
    {
     "data": {
      "text/plain": [
       "5"
      ]
     },
     "execution_count": 53,
     "metadata": {},
     "output_type": "execute_result"
    }
   ],
   "source": [
    "# I can use `.idxmax()` to get the index of the max value, BUT this only returns the first max value!\n",
    "\n",
    "vowel_counts.idxmax()"
   ]
  },
  {
   "cell_type": "code",
   "execution_count": 55,
   "metadata": {},
   "outputs": [
    {
     "data": {
      "text/plain": [
       "'honeycrisp apple'"
      ]
     },
     "execution_count": 55,
     "metadata": {},
     "output_type": "execute_result"
    }
   ],
   "source": [
    "# Don't be confused by the coincidence that the value at index 5 IS 5!\n",
    "\n",
    "fruits.iloc[5]"
   ]
  },
  {
   "cell_type": "markdown",
   "metadata": {},
   "source": [
    "___"
   ]
  },
  {
   "cell_type": "code",
   "execution_count": 56,
   "metadata": {},
   "outputs": [
    {
     "data": {
      "text/plain": [
       "5"
      ]
     },
     "execution_count": 56,
     "metadata": {},
     "output_type": "execute_result"
    }
   ],
   "source": [
    "# Find the max count of vowels\n",
    "\n",
    "max_vowels = (fruits.str.count(r'[aeiou]')).max()\n",
    "max_vowels"
   ]
  },
  {
   "cell_type": "code",
   "execution_count": 57,
   "metadata": {},
   "outputs": [
    {
     "data": {
      "text/plain": [
       "0     False\n",
       "1     False\n",
       "2     False\n",
       "3     False\n",
       "4     False\n",
       "5      True\n",
       "6     False\n",
       "7     False\n",
       "8     False\n",
       "9     False\n",
       "10    False\n",
       "11    False\n",
       "12    False\n",
       "13    False\n",
       "14    False\n",
       "15    False\n",
       "16    False\n",
       "dtype: bool"
      ]
     },
     "execution_count": 57,
     "metadata": {},
     "output_type": "execute_result"
    }
   ],
   "source": [
    "# Create a boolean Series comparing the count of vowels in my original Series to my max count\n",
    "\n",
    "bool_series = fruits.str.count(r'[aeiou]') == max_vowels\n",
    "bool_series"
   ]
  },
  {
   "cell_type": "code",
   "execution_count": 58,
   "metadata": {},
   "outputs": [
    {
     "data": {
      "text/plain": [
       "5    honeycrisp apple\n",
       "dtype: object"
      ]
     },
     "execution_count": 58,
     "metadata": {},
     "output_type": "execute_result"
    }
   ],
   "source": [
    "# Use indexing to return rows that meet my condition.\n",
    "\n",
    "fruits[bool_series]"
   ]
  },
  {
   "cell_type": "markdown",
   "metadata": {},
   "source": [
    "<hr style=\"border-top: 10px groove thistle; margin-top: 1px; margin-bottom: 1px\"></hr>"
   ]
  },
  {
   "cell_type": "markdown",
   "metadata": {},
   "source": [
    "### 2. Use pandas to create a Series from the following data:"
   ]
  },
  {
   "cell_type": "code",
   "execution_count": 59,
   "metadata": {},
   "outputs": [],
   "source": [
    "nums_list = ['$796,459.41', '$278.60', '$482,571.67', '$4,503,915.98', '$2,121,418.3', '$1,260,813.3', '$87,231.01', '$1,509,175.45', '$4,138,548.00', '$2,848,913.80', '$594,715.39', '$4,789,988.17', '$4,513,644.5', '$3,191,059.97', '$1,758,712.24', '$4,338,283.54', '$4,738,303.38', '$2,791,759.67', '$769,681.94', '$452,650.23']"
   ]
  },
  {
   "cell_type": "code",
   "execution_count": 60,
   "metadata": {},
   "outputs": [
    {
     "data": {
      "text/plain": [
       "0       $796,459.41\n",
       "1           $278.60\n",
       "2       $482,571.67\n",
       "3     $4,503,915.98\n",
       "4      $2,121,418.3\n",
       "5      $1,260,813.3\n",
       "6        $87,231.01\n",
       "7     $1,509,175.45\n",
       "8     $4,138,548.00\n",
       "9     $2,848,913.80\n",
       "10      $594,715.39\n",
       "11    $4,789,988.17\n",
       "12     $4,513,644.5\n",
       "13    $3,191,059.97\n",
       "14    $1,758,712.24\n",
       "15    $4,338,283.54\n",
       "16    $4,738,303.38\n",
       "17    $2,791,759.67\n",
       "18      $769,681.94\n",
       "19      $452,650.23\n",
       "dtype: object"
      ]
     },
     "execution_count": 60,
     "metadata": {},
     "output_type": "execute_result"
    }
   ],
   "source": [
    "numbers = pd.Series(nums_list)\n",
    "numbers"
   ]
  },
  {
   "cell_type": "markdown",
   "metadata": {},
   "source": [
    "___"
   ]
  },
  {
   "cell_type": "markdown",
   "metadata": {},
   "source": [
    "#### a. What is the data type of the series?\n",
    "\n",
    "- I can see above that the dtype is `object`, but I'll also use the `.dtype` attribute for demonstation."
   ]
  },
  {
   "cell_type": "code",
   "execution_count": 61,
   "metadata": {},
   "outputs": [
    {
     "data": {
      "text/plain": [
       "dtype('O')"
      ]
     },
     "execution_count": 61,
     "metadata": {},
     "output_type": "execute_result"
    }
   ],
   "source": [
    "numbers.dtype"
   ]
  },
  {
   "cell_type": "markdown",
   "metadata": {},
   "source": [
    "___"
   ]
  },
  {
   "cell_type": "markdown",
   "metadata": {},
   "source": [
    "#### b. Use series operations to convert the series to a numeric data type.\n",
    "\n",
    "- This is the fun part of getting a Series with dollar signs and commas in it! Before I can just convert these values from objects to floats, I have to remove those symbols."
   ]
  },
  {
   "cell_type": "code",
   "execution_count": 64,
   "metadata": {},
   "outputs": [
    {
     "data": {
      "text/plain": [
       "0      796459.41\n",
       "1         278.60\n",
       "2      482571.67\n",
       "3     4503915.98\n",
       "4     2121418.30\n",
       "5     1260813.30\n",
       "6       87231.01\n",
       "7     1509175.45\n",
       "8     4138548.00\n",
       "9     2848913.80\n",
       "10     594715.39\n",
       "11    4789988.17\n",
       "12    4513644.50\n",
       "13    3191059.97\n",
       "14    1758712.24\n",
       "15    4338283.54\n",
       "16    4738303.38\n",
       "17    2791759.67\n",
       "18     769681.94\n",
       "19     452650.23\n",
       "dtype: float64"
      ]
     },
     "execution_count": 64,
     "metadata": {},
     "output_type": "execute_result"
    }
   ],
   "source": [
    "numbers.str.replace('$', '').str.replace(',', '').astype('float')"
   ]
  },
  {
   "cell_type": "code",
   "execution_count": 65,
   "metadata": {},
   "outputs": [
    {
     "data": {
      "text/plain": [
       "0      796459.41\n",
       "1         278.60\n",
       "2      482571.67\n",
       "3     4503915.98\n",
       "4     2121418.30\n",
       "5     1260813.30\n",
       "6       87231.01\n",
       "7     1509175.45\n",
       "8     4138548.00\n",
       "9     2848913.80\n",
       "10     594715.39\n",
       "11    4789988.17\n",
       "12    4513644.50\n",
       "13    3191059.97\n",
       "14    1758712.24\n",
       "15    4338283.54\n",
       "16    4738303.38\n",
       "17    2791759.67\n",
       "18     769681.94\n",
       "19     452650.23\n",
       "dtype: float64"
      ]
     },
     "execution_count": 65,
     "metadata": {},
     "output_type": "execute_result"
    }
   ],
   "source": [
    "# Gotta love method chaining! Check the dtype at the bottom of the Series.\n",
    "\n",
    "float_series = numbers.str.replace('$', '').str.replace(',', '').astype('float')\n",
    "float_series"
   ]
  },
  {
   "cell_type": "code",
   "execution_count": 66,
   "metadata": {},
   "outputs": [
    {
     "name": "stdout",
     "output_type": "stream",
     "text": [
      "float_series contains float64 values.\n"
     ]
    }
   ],
   "source": [
    "print(f'float_series contains {float_series.dtype} values.')"
   ]
  },
  {
   "cell_type": "markdown",
   "metadata": {},
   "source": [
    "___"
   ]
  },
  {
   "cell_type": "markdown",
   "metadata": {},
   "source": [
    "#### c. What is the maximum value?\n",
    "\n",
    "- A couple options here..."
   ]
  },
  {
   "cell_type": "code",
   "execution_count": 67,
   "metadata": {},
   "outputs": [
    {
     "data": {
      "text/plain": [
       "4789988.17"
      ]
     },
     "execution_count": 67,
     "metadata": {},
     "output_type": "execute_result"
    }
   ],
   "source": [
    "float_series.max()"
   ]
  },
  {
   "cell_type": "code",
   "execution_count": 71,
   "metadata": {},
   "outputs": [
    {
     "data": {
      "text/plain": [
       "11    4789988.17\n",
       "dtype: float64"
      ]
     },
     "execution_count": 71,
     "metadata": {},
     "output_type": "execute_result"
    }
   ],
   "source": [
    "float_series.sort_values().tail(1)"
   ]
  },
  {
   "cell_type": "markdown",
   "metadata": {},
   "source": [
    "**The minimum?**"
   ]
  },
  {
   "cell_type": "code",
   "execution_count": 72,
   "metadata": {},
   "outputs": [
    {
     "data": {
      "text/plain": [
       "278.6"
      ]
     },
     "execution_count": 72,
     "metadata": {},
     "output_type": "execute_result"
    }
   ],
   "source": [
    "float_series.min()"
   ]
  },
  {
   "cell_type": "code",
   "execution_count": 73,
   "metadata": {},
   "outputs": [
    {
     "data": {
      "text/plain": [
       "1    278.6\n",
       "dtype: float64"
      ]
     },
     "execution_count": 73,
     "metadata": {},
     "output_type": "execute_result"
    }
   ],
   "source": [
    "float_series.sort_values().head(1)"
   ]
  },
  {
   "cell_type": "markdown",
   "metadata": {},
   "source": [
    "___"
   ]
  },
  {
   "cell_type": "markdown",
   "metadata": {},
   "source": [
    "#### d. Bin the data into 4 equally sized intervals and show how many values fall into each bin.\n",
    "\n",
    "- I can use the `.cut()` function to accomplish this. I go over this function pretty extensively in my review notebook [here](https://dardenreviews.github.io/pandas_series_review/pandas_series_review#.cut()) if you want more."
   ]
  },
  {
   "cell_type": "code",
   "execution_count": 74,
   "metadata": {},
   "outputs": [
    {
     "data": {
      "text/plain": [
       "0        (-4511.11, 1197705.993]\n",
       "1        (-4511.11, 1197705.993]\n",
       "2        (-4511.11, 1197705.993]\n",
       "3      (3592560.778, 4789988.17]\n",
       "4     (1197705.993, 2395133.385]\n",
       "5     (1197705.993, 2395133.385]\n",
       "6        (-4511.11, 1197705.993]\n",
       "7     (1197705.993, 2395133.385]\n",
       "8      (3592560.778, 4789988.17]\n",
       "9     (2395133.385, 3592560.778]\n",
       "10       (-4511.11, 1197705.993]\n",
       "11     (3592560.778, 4789988.17]\n",
       "12     (3592560.778, 4789988.17]\n",
       "13    (2395133.385, 3592560.778]\n",
       "14    (1197705.993, 2395133.385]\n",
       "15     (3592560.778, 4789988.17]\n",
       "16     (3592560.778, 4789988.17]\n",
       "17    (2395133.385, 3592560.778]\n",
       "18       (-4511.11, 1197705.993]\n",
       "19       (-4511.11, 1197705.993]\n",
       "dtype: category\n",
       "Categories (4, interval[float64]): [(-4511.11, 1197705.993] < (1197705.993, 2395133.385] < (2395133.385, 3592560.778] < (3592560.778, 4789988.17]]"
      ]
     },
     "execution_count": 74,
     "metadata": {},
     "output_type": "execute_result"
    }
   ],
   "source": [
    "# Using `.cut()` to convert continuous values into categories. Now I want to group them.\n",
    "\n",
    "pd.cut(float_series, 4)"
   ]
  },
  {
   "cell_type": "code",
   "execution_count": 79,
   "metadata": {},
   "outputs": [
    {
     "data": {
      "text/plain": [
       "(-4511.11, 1197705.993]       7\n",
       "(1197705.993, 2395133.385]    4\n",
       "(2395133.385, 3592560.778]    3\n",
       "(3592560.778, 4789988.17]     6\n",
       "dtype: int64"
      ]
     },
     "execution_count": 79,
     "metadata": {},
     "output_type": "execute_result"
    }
   ],
   "source": [
    "# I group the observations above by bin/category and get a count of values in each bin/category.\n",
    "\n",
    "pd.cut(float_series, 4).value_counts().sort_index()"
   ]
  },
  {
   "cell_type": "markdown",
   "metadata": {},
   "source": [
    "___"
   ]
  },
  {
   "cell_type": "markdown",
   "metadata": {},
   "source": [
    "#### e. Plot a histogram of the data. Be sure to include a title and axis labels.\n"
   ]
  },
  {
   "cell_type": "code",
   "execution_count": 81,
   "metadata": {},
   "outputs": [
    {
     "data": {
      "image/png": "[encoded data removed]",
      "text/plain": [
       "<Figure size 864x432 with 1 Axes>"
      ]
     },
     "metadata": {
      "needs_background": "light"
     },
     "output_type": "display_data"
    }
   ],
   "source": [
    "pd.cut(float_series, 4).value_counts().sort_index(ascending=False).plot(kind='barh', \n",
    "                                                                        color='thistle', \n",
    "                                                                        ec='black', \n",
    "                                                                        width=1)\n",
    "\n",
    "plt.title('4 Bins to Rule Them All')\n",
    "plt.xlabel('Count')\n",
    "plt.show()"
   ]
  },
  {
   "cell_type": "markdown",
   "metadata": {},
   "source": [
    "<hr style=\"border-top: 10px groove thistle; margin-top: 1px; margin-bottom: 1px\"></hr>"
   ]
  },
  {
   "cell_type": "markdown",
   "metadata": {},
   "source": [
    "### 3. Use pandas to create a Series from the following exam scores:"
   ]
  },
  {
   "cell_type": "code",
   "execution_count": 82,
   "metadata": {},
   "outputs": [],
   "source": [
    "scores_list = [60, 86, 75, 62, 93, 71, 60, 83, 95, 78, 65, 72, 69, 81, 96, 80, 85, 92, 82, 78]\n",
    "scores = pd.Series(scores_list)"
   ]
  },
  {
   "cell_type": "code",
   "execution_count": 83,
   "metadata": {},
   "outputs": [
    {
     "data": {
      "text/plain": [
       "pandas.core.series.Series"
      ]
     },
     "execution_count": 83,
     "metadata": {},
     "output_type": "execute_result"
    }
   ],
   "source": [
    "type(scores)"
   ]
  },
  {
   "cell_type": "code",
   "execution_count": 84,
   "metadata": {},
   "outputs": [
    {
     "data": {
      "text/plain": [
       "20"
      ]
     },
     "execution_count": 84,
     "metadata": {},
     "output_type": "execute_result"
    }
   ],
   "source": [
    "scores.size"
   ]
  },
  {
   "cell_type": "markdown",
   "metadata": {},
   "source": [
    "___"
   ]
  },
  {
   "cell_type": "markdown",
   "metadata": {},
   "source": [
    "#### a. What is the minimum exam score? The max, mean, median?"
   ]
  },
  {
   "cell_type": "code",
   "execution_count": 85,
   "metadata": {},
   "outputs": [
    {
     "data": {
      "text/plain": [
       "count    20.000000\n",
       "mean     78.150000\n",
       "std      11.352139\n",
       "min      60.000000\n",
       "25%      70.500000\n",
       "50%      79.000000\n",
       "75%      85.250000\n",
       "max      96.000000\n",
       "dtype: float64"
      ]
     },
     "execution_count": 85,
     "metadata": {},
     "output_type": "execute_result"
    }
   ],
   "source": [
    "# I can see all the descriptive statistics about the numerical Series using the `.describe()` method.\n",
    "\n",
    "scores.describe()"
   ]
  },
  {
   "cell_type": "markdown",
   "metadata": {},
   "source": [
    "**I can one-at-a-time it.**\n",
    "\n",
    "- Using the functions offers me parameters for more flexibility if I need it."
   ]
  },
  {
   "cell_type": "code",
   "execution_count": 86,
   "metadata": {},
   "outputs": [
    {
     "data": {
      "text/plain": [
       "60"
      ]
     },
     "execution_count": 86,
     "metadata": {},
     "output_type": "execute_result"
    }
   ],
   "source": [
    "scores.min()"
   ]
  },
  {
   "cell_type": "code",
   "execution_count": 87,
   "metadata": {},
   "outputs": [
    {
     "data": {
      "text/plain": [
       "96"
      ]
     },
     "execution_count": 87,
     "metadata": {},
     "output_type": "execute_result"
    }
   ],
   "source": [
    "scores.max()"
   ]
  },
  {
   "cell_type": "code",
   "execution_count": 88,
   "metadata": {},
   "outputs": [
    {
     "data": {
      "text/plain": [
       "78.15"
      ]
     },
     "execution_count": 88,
     "metadata": {},
     "output_type": "execute_result"
    }
   ],
   "source": [
    "scores.mean()"
   ]
  },
  {
   "cell_type": "code",
   "execution_count": 89,
   "metadata": {},
   "outputs": [
    {
     "data": {
      "text/plain": [
       "79.0"
      ]
     },
     "execution_count": 89,
     "metadata": {},
     "output_type": "execute_result"
    }
   ],
   "source": [
    "scores.median()"
   ]
  },
  {
   "cell_type": "markdown",
   "metadata": {},
   "source": [
    "___"
   ]
  },
  {
   "cell_type": "markdown",
   "metadata": {},
   "source": [
    "#### b. Plot a histogram of the scores."
   ]
  },
  {
   "cell_type": "code",
   "execution_count": 90,
   "metadata": {},
   "outputs": [
    {
     "data": {
      "image/png": "[encoded data removed]",
      "text/plain": [
       "<Figure size 864x432 with 1 Axes>"
      ]
     },
     "metadata": {
      "needs_background": "light"
     },
     "output_type": "display_data"
    }
   ],
   "source": [
    "scores.plot.hist(color='thistle', ec='black')\n",
    "\n",
    "plt.title('Distribution of Scores')\n",
    "plt.xlabel('Scores')\n",
    "plt.show()"
   ]
  },
  {
   "cell_type": "markdown",
   "metadata": {},
   "source": [
    "___"
   ]
  },
  {
   "cell_type": "markdown",
   "metadata": {},
   "source": [
    "#### c. Convert each of the numbers above into a letter grade. For example, 86 should be a 'B' and 95 should be an 'A'.\n",
    "\n",
    "- A = 90-100\n",
    "\n",
    "- B = 80-89\n",
    "\n",
    "- C = 75-79\n",
    "\n",
    "- D = 70-74\n",
    "\n",
    "- F = < 70"
   ]
  },
  {
   "cell_type": "code",
   "execution_count": 91,
   "metadata": {},
   "outputs": [
    {
     "data": {
      "text/plain": [
       "F    5\n",
       "D    3\n",
       "C    3\n",
       "B    5\n",
       "A    4\n",
       "dtype: int64"
      ]
     },
     "execution_count": 91,
     "metadata": {},
     "output_type": "execute_result"
    }
   ],
   "source": [
    "# Define bin edges.\n",
    "bin_edges = [0, 70, 75, 80, 90, 101]\n",
    "\n",
    "# Create a list of bin labels; you should have one less than bin edges.\n",
    "bin_labels = ['F', 'D', 'C', 'B', 'A']\n",
    "\n",
    "# Use the .cut() function to create 5 bins as defined and labeled and create Series of value_counts sorted by index value.\n",
    "pd.cut(scores, bins=bin_edges, labels=bin_labels).value_counts().sort_index()"
   ]
  },
  {
   "cell_type": "code",
   "execution_count": 92,
   "metadata": {},
   "outputs": [
    {
     "data": {
      "image/png": "[encoded data removed]",
      "text/plain": [
       "<Figure size 864x432 with 1 Axes>"
      ]
     },
     "metadata": {
      "needs_background": "light"
     },
     "output_type": "display_data"
    }
   ],
   "source": [
    "# Plot and title the code above\n",
    "\n",
    "pd.cut(scores, \n",
    "       bins=bin_edges, \n",
    "       labels=bin_labels).value_counts().sort_index().plot(kind='barh', \n",
    "                                                           color='thistle',\n",
    "                                                           ec='black',\n",
    "                                                           width=.8)\n",
    "\n",
    "plt.title('Letter Grades')\n",
    "plt.xlabel('Number of Students')\n",
    "plt.ylabel('Letter Grade')\n",
    "\n",
    "plt.show()"
   ]
  },
  {
   "cell_type": "markdown",
   "metadata": {},
   "source": [
    "___"
   ]
  },
  {
   "cell_type": "markdown",
   "metadata": {},
   "source": [
    "#### d. Write the code necessary to implement a curve. \n",
    "\n",
    ">ie. The score closest to 100 should be converted to a 100, and the same number of points added to that score should be given to every other score as well."
   ]
  },
  {
   "cell_type": "code",
   "execution_count": 93,
   "metadata": {},
   "outputs": [
    {
     "data": {
      "text/plain": [
       "4"
      ]
     },
     "execution_count": 93,
     "metadata": {},
     "output_type": "execute_result"
    }
   ],
   "source": [
    "curve = 100 - scores.max()\n",
    "curve"
   ]
  },
  {
   "cell_type": "code",
   "execution_count": 94,
   "metadata": {},
   "outputs": [
    {
     "data": {
      "text/plain": [
       "0      64\n",
       "1      90\n",
       "2      79\n",
       "3      66\n",
       "4      97\n",
       "5      75\n",
       "6      64\n",
       "7      87\n",
       "8      99\n",
       "9      82\n",
       "10     69\n",
       "11     76\n",
       "12     73\n",
       "13     85\n",
       "14    100\n",
       "15     84\n",
       "16     89\n",
       "17     96\n",
       "18     86\n",
       "19     82\n",
       "dtype: int64"
      ]
     },
     "execution_count": 94,
     "metadata": {},
     "output_type": "execute_result"
    }
   ],
   "source": [
    "curved_scores = scores + curve\n",
    "curved_scores"
   ]
  },
  {
   "cell_type": "code",
   "execution_count": 95,
   "metadata": {},
   "outputs": [
    {
     "data": {
      "text/plain": [
       "F    4\n",
       "D    2\n",
       "C    2\n",
       "B    8\n",
       "A    4\n",
       "dtype: int64"
      ]
     },
     "execution_count": 95,
     "metadata": {},
     "output_type": "execute_result"
    }
   ],
   "source": [
    "# Define bin edges.\n",
    "bin_edges = [0, 70, 75, 80, 90, 101]\n",
    "\n",
    "# Create a list of bin labels; you should have one less than bin edges.\n",
    "bin_labels = ['F', 'D', 'C', 'B', 'A']\n",
    "\n",
    "# Check out counts\n",
    "pd.cut(curved_scores, bins=bin_edges, labels=bin_labels).value_counts().sort_index()"
   ]
  },
  {
   "cell_type": "code",
   "execution_count": 96,
   "metadata": {},
   "outputs": [
    {
     "data": {
      "image/png": "[encoded data removed]",
      "text/plain": [
       "<Figure size 864x432 with 1 Axes>"
      ]
     },
     "metadata": {
      "needs_background": "light"
     },
     "output_type": "display_data"
    }
   ],
   "source": [
    "# Create and plot bins\n",
    "pd.cut(curved_scores, \n",
    "       bins=bin_edges, \n",
    "       labels=bin_labels).value_counts().sort_index().plot(kind='barh', \n",
    "                                                           color='plum',\n",
    "                                                           ec='black',\n",
    "                                                           width=.8)\n",
    "\n",
    "plt.title('Curved Letter Grades')\n",
    "plt.xlabel('Number of Students')\n",
    "plt.ylabel('Letter Grade')\n",
    "\n",
    "plt.show()"
   ]
  },
  {
   "cell_type": "markdown",
   "metadata": {},
   "source": [
    "___"
   ]
  },
  {
   "cell_type": "code",
   "execution_count": 97,
   "metadata": {},
   "outputs": [
    {
     "data": {
      "image/png": "[encoded data removed]",
      "text/plain": [
       "<Figure size 864x432 with 1 Axes>"
      ]
     },
     "metadata": {
      "needs_background": "light"
     },
     "output_type": "display_data"
    },
    {
     "data": {
      "image/png": "[encoded data removed]",
      "text/plain": [
       "<Figure size 864x432 with 1 Axes>"
      ]
     },
     "metadata": {
      "needs_background": "light"
     },
     "output_type": "display_data"
    }
   ],
   "source": [
    "# Define bin edges.\n",
    "bin_edges = [0, 70, 75, 80, 90, 101]\n",
    "\n",
    "# Create a list of bin labels; you should have one less than bin edges.\n",
    "bin_labels = ['F', 'D', 'C', 'B', 'A']\n",
    "\n",
    "##################### first plot #################################\n",
    "\n",
    "plt.subplot(2,1,1)\n",
    "\n",
    "# code to plot letter grades\n",
    "\n",
    "pd.cut(scores, \n",
    "       bins=bin_edges, \n",
    "       labels=bin_labels).value_counts().sort_index().plot(kind='barh', \n",
    "                                                           color='thistle',\n",
    "                                                           ec='black',\n",
    "                                                           width=.8)\n",
    "\n",
    "# Titles and labels for plot 1\n",
    "\n",
    "plt.title('Letter Grades')\n",
    "plt.xlabel('Number of Students')\n",
    "plt.ylabel('Letter Grade')\n",
    "plt.xlim(0, 8)\n",
    "\n",
    "plt.show()\n",
    "\n",
    "##################### second plot ################################\n",
    "\n",
    "plt.subplot(2,1,2)\n",
    "\n",
    "# code to plot curved letter grades\n",
    "\n",
    "pd.cut(curved_scores, \n",
    "       bins=bin_edges, \n",
    "       labels=bin_labels).value_counts().sort_index().plot(kind='barh', \n",
    "                                                           color='plum',\n",
    "                                                           ec='black',\n",
    "                                                           width=.8)\n",
    "\n",
    "# Titles and labels for plot 2\n",
    "\n",
    "plt.title('Curved Letter Grades')\n",
    "plt.xlabel('Number of Students')\n",
    "plt.ylabel('Letter Grade')\n",
    "\n",
    "plt.show()"
   ]
  },
  {
   "cell_type": "markdown",
   "metadata": {},
   "source": [
    "<hr style=\"border-top: 10px groove thistle; margin-top: 1px; margin-bottom: 1px\"></hr>"
   ]
  },
  {
   "cell_type": "markdown",
   "metadata": {},
   "source": [
    "### 4. Use pandas to create a Series from the following string:"
   ]
  },
  {
   "cell_type": "code",
   "execution_count": 98,
   "metadata": {},
   "outputs": [
    {
     "data": {
      "text/plain": [
       "str"
      ]
     },
     "execution_count": 98,
     "metadata": {},
     "output_type": "execute_result"
    }
   ],
   "source": [
    "string = 'hnvidduckkqxwymbimkccexbkmqygkxoyndmcxnwqarhyffsjpsrabtjzsypmzadfavyrnndndvswreauxovncxtwzpwejilzjrmmbbgbyxvjtewqthafnbkqplarokkyydtubbmnexoypulzwfhqvckdpqtpoppzqrmcvhhpwgjwupgzhiofohawytlsiyecuproguy'\n",
    "type(string)"
   ]
  },
  {
   "cell_type": "code",
   "execution_count": 102,
   "metadata": {},
   "outputs": [
    {
     "data": {
      "text/plain": [
       "['h', 'n', 'v', 'i', 'd']"
      ]
     },
     "execution_count": 102,
     "metadata": {},
     "output_type": "execute_result"
    }
   ],
   "source": [
    "# Create and peek at list of letters\n",
    "\n",
    "letters_list = string.replace('', ' ').strip().split(' ')\n",
    "letters_list[:5]"
   ]
  },
  {
   "cell_type": "code",
   "execution_count": 103,
   "metadata": {},
   "outputs": [
    {
     "data": {
      "text/plain": [
       "0    h\n",
       "1    n\n",
       "2    v\n",
       "3    i\n",
       "4    d\n",
       "dtype: object"
      ]
     },
     "execution_count": 103,
     "metadata": {},
     "output_type": "execute_result"
    }
   ],
   "source": [
    "# Create and peek at Series of letters\n",
    "\n",
    "letters = pd.Series(letters_list)\n",
    "letters.head()"
   ]
  },
  {
   "cell_type": "code",
   "execution_count": 104,
   "metadata": {},
   "outputs": [
    {
     "data": {
      "text/plain": [
       "pandas.core.series.Series"
      ]
     },
     "execution_count": 104,
     "metadata": {},
     "output_type": "execute_result"
    }
   ],
   "source": [
    "type(letters)"
   ]
  },
  {
   "cell_type": "markdown",
   "metadata": {},
   "source": [
    "#### a. What is the most frequently occuring letter? Least frequently occuring?"
   ]
  },
  {
   "cell_type": "code",
   "execution_count": 106,
   "metadata": {},
   "outputs": [
    {
     "data": {
      "text/plain": [
       "l     4\n",
       "i     5\n",
       "g     5\n",
       "s     5\n",
       "e     6\n",
       "j     6\n",
       "f     6\n",
       "v     7\n",
       "z     7\n",
       "t     7\n",
       "u     7\n",
       "h     8\n",
       "q     8\n",
       "d     8\n",
       "x     8\n",
       "o     8\n",
       "a     8\n",
       "c     8\n",
       "r     8\n",
       "k     9\n",
       "n     9\n",
       "b     9\n",
       "m     9\n",
       "w    10\n",
       "p    12\n",
       "y    13\n",
       "dtype: int64"
      ]
     },
     "execution_count": 106,
     "metadata": {},
     "output_type": "execute_result"
    }
   ],
   "source": [
    "letters.value_counts().sort_values()"
   ]
  },
  {
   "cell_type": "code",
   "execution_count": 107,
   "metadata": {},
   "outputs": [
    {
     "data": {
      "text/plain": [
       "y    13\n",
       "dtype: int64"
      ]
     },
     "execution_count": 107,
     "metadata": {},
     "output_type": "execute_result"
    }
   ],
   "source": [
    "letters.value_counts().nlargest(n=1, keep='all')"
   ]
  },
  {
   "cell_type": "code",
   "execution_count": 108,
   "metadata": {},
   "outputs": [
    {
     "data": {
      "text/plain": [
       "l    4\n",
       "dtype: int64"
      ]
     },
     "execution_count": 108,
     "metadata": {},
     "output_type": "execute_result"
    }
   ],
   "source": [
    "letters.value_counts().nsmallest(n=1, keep='all')"
   ]
  },
  {
   "cell_type": "markdown",
   "metadata": {},
   "source": [
    "___"
   ]
  },
  {
   "cell_type": "markdown",
   "metadata": {},
   "source": [
    "#### b. How many vowels are in the list?"
   ]
  },
  {
   "cell_type": "code",
   "execution_count": 109,
   "metadata": {},
   "outputs": [
    {
     "data": {
      "text/plain": [
       "0      0\n",
       "1      0\n",
       "2      0\n",
       "3      1\n",
       "4      0\n",
       "      ..\n",
       "195    0\n",
       "196    1\n",
       "197    0\n",
       "198    1\n",
       "199    0\n",
       "Length: 200, dtype: int64"
      ]
     },
     "execution_count": 109,
     "metadata": {},
     "output_type": "execute_result"
    }
   ],
   "source": [
    "# Identify the vowels\n",
    "\n",
    "letters.str.lower().str.count(r'[aeiou]')"
   ]
  },
  {
   "cell_type": "code",
   "execution_count": 110,
   "metadata": {},
   "outputs": [
    {
     "data": {
      "text/plain": [
       "34"
      ]
     },
     "execution_count": 110,
     "metadata": {},
     "output_type": "execute_result"
    }
   ],
   "source": [
    "# Total the vowels in the Series\n",
    "\n",
    "letters.str.lower().str.count(r'[aeiou]').sum()"
   ]
  },
  {
   "cell_type": "markdown",
   "metadata": {},
   "source": [
    "___"
   ]
  },
  {
   "cell_type": "markdown",
   "metadata": {},
   "source": [
    "#### c. How many consonants are in the list?"
   ]
  },
  {
   "cell_type": "code",
   "execution_count": 111,
   "metadata": {},
   "outputs": [
    {
     "data": {
      "text/plain": [
       "166"
      ]
     },
     "execution_count": 111,
     "metadata": {},
     "output_type": "execute_result"
    }
   ],
   "source": [
    "# Identify and total the consonants in the Series\n",
    "\n",
    "letters.str.lower().str.count(r'[^aeiou]').sum()"
   ]
  },
  {
   "cell_type": "markdown",
   "metadata": {},
   "source": [
    "___"
   ]
  },
  {
   "cell_type": "markdown",
   "metadata": {},
   "source": [
    "#### d. Create a series that has all of the same letters, but uppercased."
   ]
  },
  {
   "cell_type": "code",
   "execution_count": 112,
   "metadata": {},
   "outputs": [
    {
     "data": {
      "text/plain": [
       "0      H\n",
       "1      N\n",
       "2      V\n",
       "3      I\n",
       "4      D\n",
       "      ..\n",
       "195    R\n",
       "196    O\n",
       "197    G\n",
       "198    U\n",
       "199    Y\n",
       "Length: 200, dtype: object"
      ]
     },
     "execution_count": 112,
     "metadata": {},
     "output_type": "execute_result"
    }
   ],
   "source": [
    "letters.str.upper()"
   ]
  },
  {
   "cell_type": "markdown",
   "metadata": {},
   "source": [
    "___"
   ]
  },
  {
   "cell_type": "markdown",
   "metadata": {},
   "source": [
    "#### e. Create a bar plot of the frequencies of the 6 most frequently occuring letters."
   ]
  },
  {
   "cell_type": "code",
   "execution_count": 114,
   "metadata": {},
   "outputs": [
    {
     "data": {
      "text/plain": [
       "y    13\n",
       "p    12\n",
       "w    10\n",
       "m     9\n",
       "b     9\n",
       "n     9\n",
       "dtype: int64"
      ]
     },
     "execution_count": 114,
     "metadata": {},
     "output_type": "execute_result"
    }
   ],
   "source": [
    "letters.value_counts().head(6)"
   ]
  },
  {
   "cell_type": "code",
   "execution_count": 117,
   "metadata": {},
   "outputs": [
    {
     "data": {
      "image/png": "[encoded data removed]",
      "text/plain": [
       "<Figure size 864x432 with 1 Axes>"
      ]
     },
     "metadata": {
      "needs_background": "light"
     },
     "output_type": "display_data"
    }
   ],
   "source": [
    "letters.value_counts().head(6).plot(kind='barh', \n",
    "                                    color='thistle',\n",
    "                                    ec='black',\n",
    "                                    width=.8)\n",
    "\n",
    "plt.title('Top 6 Letters')\n",
    "\n",
    "# I wanted the most frequent letter at the top, so I chose to invert the y-axis.\n",
    "plt.gca().invert_yaxis()\n",
    "\n",
    "plt.show()"
   ]
  },
  {
   "cell_type": "markdown",
   "metadata": {},
   "source": [
    "### 5. Student Solution Walkthroughs!!"
   ]
  }
 ],
 "metadata": {
  "kernelspec": {
   "display_name": "Python 3",
   "language": "python",
   "name": "python3"
  },
  "language_info": {
   "codemirror_mode": {
    "name": "ipython",
    "version": 3
   },
   "file_extension": ".py",
   "mimetype": "text/x-python",
   "name": "python",
   "nbconvert_exporter": "python",
   "pygments_lexer": "ipython3",
   "version": "3.7.4"
  },
  "toc": {
   "base_numbering": 1,
   "nav_menu": {},
   "number_sections": true,
   "sideBar": true,
   "skip_h1_title": true,
   "title_cell": "Table of Contents",
   "title_sidebar": "Contents",
   "toc_cell": true,
   "toc_position": {},
   "toc_section_display": true,
   "toc_window_display": true
  }
 },
 "nbformat": 4,
 "nbformat_minor": 4
}
