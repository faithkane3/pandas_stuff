{
 "cells": [
  {
   "cell_type": "markdown",
   "metadata": {
    "toc": true
   },
   "source": [
    "<h1>Table of Contents<span class=\"tocSkip\"></span></h1>\n",
    "<div class=\"toc\"><ul class=\"toc-item\"><li><span><a href=\"#Exercise-98\" data-toc-modified-id=\"Exercise-98-1\"><span class=\"toc-item-num\">1&nbsp;&nbsp;</span>Exercise 98</a></span></li><li><span><a href=\"#Exercise-101\" data-toc-modified-id=\"Exercise-101-2\"><span class=\"toc-item-num\">2&nbsp;&nbsp;</span>Exercise 101</a></span></li></ul></div>"
   ]
  },
  {
   "cell_type": "code",
   "execution_count": 1,
   "metadata": {},
   "outputs": [],
   "source": [
    "import pandas as pd\n",
    "import numpy as np"
   ]
  },
  {
   "cell_type": "code",
   "execution_count": 2,
   "metadata": {},
   "outputs": [],
   "source": [
    "shopping_cart = {\n",
    "    \"tax\": .08,\n",
    "    \"items\": [\n",
    "        {\n",
    "            \"title\": \"orange juice\",\n",
    "            \"price\": 3.99,\n",
    "            \"quantity\": 1\n",
    "        },\n",
    "        {\n",
    "            \"title\": \"rice\",\n",
    "            \"price\": 1.99,\n",
    "            \"quantity\": 3\n",
    "        },\n",
    "        {\n",
    "            \"title\": \"beans\",\n",
    "            \"price\": 0.99,\n",
    "            \"quantity\": 3\n",
    "        },\n",
    "        {\n",
    "            \"title\": \"chili sauce\",\n",
    "            \"price\": 2.99,\n",
    "            \"quantity\": 1\n",
    "        },\n",
    "        {\n",
    "            \"title\": \"chocolate\",\n",
    "            \"price\": 0.75,\n",
    "            \"quantity\": 9\n",
    "        }\n",
    "    ]\n",
    "}"
   ]
  },
  {
   "cell_type": "markdown",
   "metadata": {},
   "source": [
    "### Exercise 98\n",
    "\n",
    "Write a function named total_number_of_items that takes in the shopping cart as input and returns the total number of all item quantities.\n",
    "\n",
    "- This should return the sum of all of the quantities from each item type.\n",
    "\n",
    ">def total_number_of_items (x):"
   ]
  },
  {
   "cell_type": "code",
   "execution_count": null,
   "metadata": {},
   "outputs": [],
   "source": [
    "def total_number_of_items(shopping_cart):\n",
    "    return sum([item['quantity'] for item in shopping_cart['items']])\n",
    "    \n",
    "assert total_number_of_items(shopping_cart) == 17\n",
    "print(\"Exercise 98 is complete.\")"
   ]
  },
  {
   "cell_type": "code",
   "execution_count": null,
   "metadata": {},
   "outputs": [],
   "source": [
    "def total_number_of_items(shopping_cart):\n",
    "    quant = 0\n",
    "    for item in shopping_cart['items']:\n",
    "        quant += item['quantity']\n",
    "    return quant\n",
    "\n",
    "assert total_number_of_items(shopping_cart) == 17\n",
    "print(\"Exercise 98 is complete.\")"
   ]
  },
  {
   "cell_type": "markdown",
   "metadata": {},
   "source": [
    "### Exercise 98\n",
    "\n"
   ]
  },
  {
   "cell_type": "code",
   "execution_count": null,
   "metadata": {},
   "outputs": [],
   "source": [
    "shopping_cart['items'][0]['price'] * shopping_cart['items'][0]['quantity']"
   ]
  },
  {
   "cell_type": "code",
   "execution_count": null,
   "metadata": {},
   "outputs": [],
   "source": [
    "total = 0\n",
    "quantity = 0\n",
    "for i in range(len(shopping_cart['items'])):\n",
    "    total += shopping_cart['items'][i]['price'] * shopping_cart['items'][i]['quantity']\n",
    "    quantity += shopping_cart['items'][i]['quantity']\n",
    "\n",
    "total / quantity"
   ]
  },
  {
   "cell_type": "markdown",
   "metadata": {},
   "source": [
    "### Exercise 99"
   ]
  },
  {
   "cell_type": "code",
   "execution_count": null,
   "metadata": {},
   "outputs": [],
   "source": []
  },
  {
   "cell_type": "code",
   "execution_count": null,
   "metadata": {},
   "outputs": [],
   "source": []
  },
  {
   "cell_type": "code",
   "execution_count": null,
   "metadata": {},
   "outputs": [],
   "source": []
  },
  {
   "cell_type": "markdown",
   "metadata": {},
   "source": [
    "### Exercise 100"
   ]
  },
  {
   "cell_type": "code",
   "execution_count": 5,
   "metadata": {},
   "outputs": [
    {
     "name": "stdout",
     "output_type": "stream",
     "text": [
      "1.333529411764706\n"
     ]
    }
   ],
   "source": [
    "total_price = 0\n",
    "total_quantity = 0\n",
    "\n",
    "for item in shopping_cart['items']:\n",
    "    total_price += item['price'] * item['quantity']\n",
    "    total_quantity += item['quantity']\n",
    "    \n",
    "print(total_price/total_quantity)"
   ]
  },
  {
   "cell_type": "markdown",
   "metadata": {},
   "source": [
    "### Exercise 101\n",
    "\n",
    "Write a function named most_spent_on_item that takes in the shopping cart as input and returns the dictionary associated with the item that has the highest price*quantity.\n",
    "\n",
    "- Be sure to do this as programmatically as possible. \n",
    "\n",
    ">**Hint:** Similarly to how we sometimes begin a function with setting a variable to zero, we need a starting place:\n",
    "\n",
    ">**Hint:** Consider creating a variable that is a dictionary with the keys \"price\" and \"quantity\" both set to 0. You can then compare each item's price and quantity total to the one from \"most\""
   ]
  },
  {
   "cell_type": "code",
   "execution_count": null,
   "metadata": {},
   "outputs": [],
   "source": [
    "# View items in shopping cart - orienting myself.\n",
    "\n",
    "shopping_cart['items']"
   ]
  },
  {
   "cell_type": "code",
   "execution_count": 4,
   "metadata": {},
   "outputs": [
    {
     "name": "stdout",
     "output_type": "stream",
     "text": [
      "{'title': 'chocolate', 'price': 0.75, 'quantity': 9}\n"
     ]
    }
   ],
   "source": [
    "# Our simple loops method of solving the problem.\n",
    "\n",
    "max_total = 0\n",
    "\n",
    "for item in shopping_cart['items']:\n",
    "    total = item['price'] * item['quantity']\n",
    "    if total > max_total:\n",
    "        max_total = total\n",
    "\n",
    "for item in shopping_cart['items']:\n",
    "    if item['price'] * item['quantity'] == max_total:\n",
    "        print(item)"
   ]
  },
  {
   "cell_type": "code",
   "execution_count": 9,
   "metadata": {},
   "outputs": [],
   "source": [
    "# We can build a simple function to use with the key argument in the max function.\n",
    "\n",
    "def total_func(dict):\n",
    "    return dict['price'] * dict['quantity']"
   ]
  },
  {
   "cell_type": "code",
   "execution_count": 10,
   "metadata": {},
   "outputs": [
    {
     "data": {
      "text/plain": [
       "{'title': 'chocolate', 'price': 0.75, 'quantity': 9}"
      ]
     },
     "execution_count": 10,
     "metadata": {},
     "output_type": "execute_result"
    }
   ],
   "source": [
    "# Use our function from above.\n",
    "\n",
    "max(shopping_cart['items'], key=total_func)"
   ]
  },
  {
   "cell_type": "code",
   "execution_count": 8,
   "metadata": {},
   "outputs": [
    {
     "data": {
      "text/plain": [
       "{'title': 'chocolate', 'price': 0.75, 'quantity': 9}"
      ]
     },
     "execution_count": 8,
     "metadata": {},
     "output_type": "execute_result"
    }
   ],
   "source": [
    "# We can use a lambda function to define our simple function inline.\n",
    "\n",
    "max(shopping_cart['items'], key=lambda item: (item['price'] * item['quantity']))"
   ]
  },
  {
   "cell_type": "code",
   "execution_count": null,
   "metadata": {},
   "outputs": [],
   "source": [
    "# Test out our function.\n",
    "\n",
    "def most_spent_on_item(shopping_cart):\n",
    "    return max(shopping_cart['items'], key=lambda item: (item['price'] * item['quantity']))\n",
    "\n",
    "assert most_spent_on_item(shopping_cart) == {'title': 'chocolate', 'price': 0.75, 'quantity': 9}\n",
    "print('Exercise 101 is complete.')"
   ]
  },
  {
   "cell_type": "code",
   "execution_count": 12,
   "metadata": {},
   "outputs": [
    {
     "data": {
      "text/plain": [
       "{'title': 'orange juice', 'price': 3.99, 'quantity': 1}"
      ]
     },
     "execution_count": 12,
     "metadata": {},
     "output_type": "execute_result"
    }
   ],
   "source": [
    "# Return the item in the shopping_cart with the longest title string.\n",
    "\n",
    "max(shopping_cart['items'], key=lambda item: len(item['title']))"
   ]
  },
  {
   "cell_type": "code",
   "execution_count": 13,
   "metadata": {},
   "outputs": [],
   "source": [
    "word_list = ['steve', 'milla', 'faith', 'jennifer', 'bob']"
   ]
  },
  {
   "cell_type": "code",
   "execution_count": 14,
   "metadata": {},
   "outputs": [
    {
     "data": {
      "text/plain": [
       "'jennifer'"
      ]
     },
     "execution_count": 14,
     "metadata": {},
     "output_type": "execute_result"
    }
   ],
   "source": [
    "# Use a builtin function with max to return the string with the most characters.\n",
    "\n",
    "max(word_list, key=len)"
   ]
  },
  {
   "cell_type": "code",
   "execution_count": 15,
   "metadata": {},
   "outputs": [
    {
     "data": {
      "text/plain": [
       "'steve'"
      ]
     },
     "execution_count": 15,
     "metadata": {},
     "output_type": "execute_result"
    }
   ],
   "source": [
    "# Without the key argument, it will return the string that starts with the letter latest in the alphabet.\n",
    "\n",
    "max(word_list)"
   ]
  },
  {
   "cell_type": "code",
   "execution_count": 16,
   "metadata": {},
   "outputs": [
    {
     "data": {
      "text/plain": [
       "'bob'"
      ]
     },
     "execution_count": 16,
     "metadata": {},
     "output_type": "execute_result"
    }
   ],
   "source": [
    "# I can use this of course with min, too.\n",
    "\n",
    "min(word_list, key=len)"
   ]
  }
 ],
 "metadata": {
  "kernelspec": {
   "display_name": "Python 3",
   "language": "python",
   "name": "python3"
  },
  "language_info": {
   "codemirror_mode": {
    "name": "ipython",
    "version": 3
   },
   "file_extension": ".py",
   "mimetype": "text/x-python",
   "name": "python",
   "nbconvert_exporter": "python",
   "pygments_lexer": "ipython3",
   "version": "3.7.4"
  },
  "toc": {
   "base_numbering": 1,
   "nav_menu": {},
   "number_sections": true,
   "sideBar": true,
   "skip_h1_title": true,
   "title_cell": "Table of Contents",
   "title_sidebar": "Contents",
   "toc_cell": true,
   "toc_position": {},
   "toc_section_display": true,
   "toc_window_display": false
  }
 },
 "nbformat": 4,
 "nbformat_minor": 4
}
